{
 "cells": [
  {
   "cell_type": "markdown",
   "metadata": {},
   "source": [
    "#  Exploratory Data Analysis\n",
    "This notebook highlights some simple, yet invaluable, exploratory data science techniques."
   ]
  },
  {
   "cell_type": "code",
   "execution_count": null,
   "metadata": {},
   "outputs": [],
   "source": [
    "# Numpy and Pandas are data science heavy lifters\n",
    "import numpy as np\n",
    "import pandas as pd"
   ]
  },
  {
   "cell_type": "code",
   "execution_count": 38,
   "metadata": {},
   "outputs": [],
   "source": [
    "# Read CSV Argus output from a file\n",
    "filename = \"data/two-hour-sample.csv\"\n",
    "df = pd.read_csv(filename)"
   ]
  },
  {
   "cell_type": "code",
   "execution_count": null,
   "metadata": {},
   "outputs": [],
   "source": [
    "# Shape is the number of rows and columns of the dataframe\n",
    "df.shape"
   ]
  },
  {
   "cell_type": "code",
   "execution_count": null,
   "metadata": {},
   "outputs": [],
   "source": [
    "# Head prints the first several rows of the dataframe\n",
    "df.head(20)"
   ]
  },
  {
   "cell_type": "code",
   "execution_count": 39,
   "metadata": {},
   "outputs": [
    {
     "data": {
      "text/plain": [
       "Index([u'Seq', u'Cause', u'StartTime', u'Proto', u'SrcAddr', u'Sport', u'Dir',\n",
       "       u'DstAddr', u'Dport', u'State', u'LastTime', u'Dur', u'TotBytes',\n",
       "       u'SrcBytes', u'TotAppByte', u'SAppBytes', u'TotPkts', u'SrcPkts',\n",
       "       u'Load', u'Rate', u'Flgs', u'SIntPkt', u'DIntPkt', u'SIntPktMax',\n",
       "       u'SIntPktMin', u'DIntPktMax', u'DIntPktMin', u'SrcJitter', u'DstJitter',\n",
       "       u'SrcWin', u'DstWin', u'TcpRtt', u'StdDev', u'RelTime', u'sMaxPktSz',\n",
       "       u'sMinPktSz', u'dMaxPktSz', u'dMinPktSz', u'PCRatio'],\n",
       "      dtype='object')"
      ]
     },
     "execution_count": 39,
     "metadata": {},
     "output_type": "execute_result"
    }
   ],
   "source": [
    "df.columns"
   ]
  },
  {
   "cell_type": "code",
   "execution_count": null,
   "metadata": {},
   "outputs": [],
   "source": [
    "# `describe` computes \"5-number\" summaries of the numerical fields\n",
    "df.describe()"
   ]
  },
  {
   "cell_type": "code",
   "execution_count": null,
   "metadata": {},
   "outputs": [],
   "source": [
    "# Get Unique Destination ports\n",
    "df[\"Dport\"].unique()"
   ]
  },
  {
   "cell_type": "code",
   "execution_count": null,
   "metadata": {},
   "outputs": [],
   "source": [
    "# Plot a Degree Distribution\n",
    "import matplotlib.pyplot as plt\n",
    "plt.hist(df.groupby(\"DstAddr\").size())\n",
    "plt.show()"
   ]
  },
  {
   "cell_type": "code",
   "execution_count": null,
   "metadata": {},
   "outputs": [],
   "source": [
    "# Select only DNS flows and draw BoxPlots\n",
    "dns = df[df[\"Dport\"] == 53]\n",
    "dns.shape"
   ]
  },
  {
   "cell_type": "code",
   "execution_count": null,
   "metadata": {},
   "outputs": [],
   "source": [
    "dns[[\"TotPkts\",\"TotBytes\"]].plot(kind='box', subplots=True, layout=(\n",
    "    1, 2), sharex=False, sharey=False)\n",
    "plt.show()"
   ]
  },
  {
   "cell_type": "code",
   "execution_count": null,
   "metadata": {},
   "outputs": [],
   "source": [
    "from pandas.plotting import scatter_matrix\n",
    "scatter_matrix(df[[\"Dur\",\"TotPkts\", \"TotBytes\"]])\n",
    "plt.show()"
   ]
  },
  {
   "cell_type": "code",
   "execution_count": null,
   "metadata": {},
   "outputs": [],
   "source": []
  }
 ],
 "metadata": {
  "kernelspec": {
   "display_name": "Python 2",
   "language": "python",
   "name": "python2"
  },
  "language_info": {
   "codemirror_mode": {
    "name": "ipython",
    "version": 2
   },
   "file_extension": ".py",
   "mimetype": "text/x-python",
   "name": "python",
   "nbconvert_exporter": "python",
   "pygments_lexer": "ipython2",
   "version": "2.7.17"
  }
 },
 "nbformat": 4,
 "nbformat_minor": 2
}
